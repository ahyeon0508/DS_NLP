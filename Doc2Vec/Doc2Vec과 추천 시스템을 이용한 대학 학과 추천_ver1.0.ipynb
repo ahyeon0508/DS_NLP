{
 "cells": [
  {
   "cell_type": "markdown",
   "id": "spectacular-traffic",
   "metadata": {},
   "source": [
    "📖 참고 : 딥 러닝을 이용한 자연어 처리 입문"
   ]
  },
  {
   "cell_type": "markdown",
   "id": "thousand-eight",
   "metadata": {},
   "source": [
    "# Doc2Vec과 추천 시스템을 이용한 대학 학과 추천_ver1.0"
   ]
  },
  {
   "cell_type": "markdown",
   "id": "absent-collectible",
   "metadata": {},
   "source": [
    "- 캡스톤종합디자인프로젝트 논문 후보로 해당 미니 프로젝트를 진행함\n",
    "- 대입 서류를 기반으로 대학 학과를 추천 받음으로써 아직 학과를 선택하지 못 한 학생들에게 도움을 줄 수 있음\n",
    "- 또한 현재 대한민국에 존재하는 대학과 학과의 수가 매우 많기 때문에 학과 선택의 폭을 넓혀줄 수 있음\n",
    "- 데이터 수집 : [Doc2Vec과 추천 시스템을 이용한 대학 학과 추천_데이터 수집.ipynb](https://github.com/ahyeon0508/DS_NLP/blob/master/Doc2Vec/Doc2Vec%EA%B3%BC%20%EC%B6%94%EC%B2%9C%20%EC%8B%9C%EC%8A%A4%ED%85%9C%EC%9D%84%20%EC%9D%B4%EC%9A%A9%ED%95%9C%20%EB%8C%80%ED%95%99%20%ED%95%99%EA%B3%BC%20%EC%B6%94%EC%B2%9C_%EB%8D%B0%EC%9D%B4%ED%84%B0%20%EC%88%98%EC%A7%91.ipynb)\n",
    "- ver1.0은 대입 서류를 기반으로 대학 학과를 추천x"
   ]
  },
  {
   "cell_type": "markdown",
   "id": "distinct-pencil",
   "metadata": {},
   "source": [
    "---"
   ]
  },
  {
   "cell_type": "markdown",
   "id": "complex-party",
   "metadata": {},
   "source": [
    "# 1. 라이브러리 호출 및 데이터 불러오기"
   ]
  },
  {
   "cell_type": "code",
   "execution_count": 1,
   "id": "afraid-dakota",
   "metadata": {},
   "outputs": [],
   "source": [
    "import pandas as pd\n",
    "import matplotlib.pyplot as plt\n",
    "from gensim.models.word2vec import Word2Vec\n",
    "from konlpy.tag import Okt\n",
    "from sklearn.metrics.pairwise import cosine_similarity\n",
    "\n",
    "import warnings\n",
    "warnings.filterwarnings('ignore')"
   ]
  },
  {
   "cell_type": "code",
   "execution_count": 2,
   "id": "animal-prevention",
   "metadata": {},
   "outputs": [],
   "source": [
    "data = pd.read_csv(\"career_major.csv\")"
   ]
  },
  {
   "cell_type": "code",
   "execution_count": 3,
   "id": "respected-oregon",
   "metadata": {
    "scrolled": true
   },
   "outputs": [
    {
     "data": {
      "text/html": [
       "<div>\n",
       "<style scoped>\n",
       "    .dataframe tbody tr th:only-of-type {\n",
       "        vertical-align: middle;\n",
       "    }\n",
       "\n",
       "    .dataframe tbody tr th {\n",
       "        vertical-align: top;\n",
       "    }\n",
       "\n",
       "    .dataframe thead th {\n",
       "        text-align: right;\n",
       "    }\n",
       "</style>\n",
       "<table border=\"1\" class=\"dataframe\">\n",
       "  <thead>\n",
       "    <tr style=\"text-align: right;\">\n",
       "      <th></th>\n",
       "      <th>Unnamed: 0</th>\n",
       "      <th>학과개요</th>\n",
       "      <th>흥미와적성</th>\n",
       "      <th>학과특성</th>\n",
       "      <th>대학</th>\n",
       "    </tr>\n",
       "  </thead>\n",
       "  <tbody>\n",
       "    <tr>\n",
       "      <th>0</th>\n",
       "      <td>0</td>\n",
       "      <td>가정교육과의 교육과정은 크게 아동학, 가정관리학, 의류학, 식품학, 영양학, 주거학...</td>\n",
       "      <td>평소 친구, 가족, 주변 사람 등 사람에 대해 관심이 많거나 주변 사람의 고민을 들...</td>\n",
       "      <td>영양학, 의류학, 주거학, 가족학 등의 교과내용학을 배웁니다. 가정과교육론, 가정과...</td>\n",
       "      <td>['가정교육과(고려대학교) ', '가정교육과(동국대학교) ', '가정교육과(중앙대학...</td>\n",
       "    </tr>\n",
       "    <tr>\n",
       "      <th>1</th>\n",
       "      <td>1</td>\n",
       "      <td>가족복지과는 사회복지에 대한 새로운 관점에 맞게 가족의 기능을 강화하고 잠재력을 개...</td>\n",
       "      <td>가족복지학을 공부하기 위해서는 평소 어려운 사람을 돕는 일을 좋아하고, 심리적ㆍ정서...</td>\n",
       "      <td>저출산 고령화 사회가 되면서 가족의 기능 강화 및 돌봄 서비스에 대한 사회적 요구가...</td>\n",
       "      <td>['가족복지과(자연)(숭의여자대학교) ', '가족복지과(숭의여자대학교) ', '사회...</td>\n",
       "    </tr>\n",
       "    <tr>\n",
       "      <th>2</th>\n",
       "      <td>2</td>\n",
       "      <td>간호학은 환자의 건강을 유지ㆍ증진시키고 질병의 고통을 줄여 행복한 삶을 살 수 있도...</td>\n",
       "      <td>인체나 질병, 생명 등에 대한 관심이 있고, 남을 도와주는 봉사정신이 있는 사람이면...</td>\n",
       "      <td>아픈 사람을 돌보며 다른 사람을 도우며 사는 삶에 대해 배울 수 있는 곳이 간호과입...</td>\n",
       "      <td>['간호학과(삼육보건대학교) ', '간호학과(4년제)(서울여자간호대학교) ', '간...</td>\n",
       "    </tr>\n",
       "    <tr>\n",
       "      <th>3</th>\n",
       "      <td>3</td>\n",
       "      <td>나이팅게일 선서에 대해 들어본 적 있나요? 간호사의 역할과 마음가짐에 대한 선서입니...</td>\n",
       "      <td>인체나 질병, 생명 등에 대한 관심이 있고, 남을 도와주는 것을 좋아하는 사람이면 ...</td>\n",
       "      <td>신체적으로나 정신적으로 건강하게 일생을 살아가는 것은 가장 큰 복이라고 할 수 있습...</td>\n",
       "      <td>['간호학과(가톨릭대학교) ', '간호학과(경희대학교) ', '간호학과(고려대학교)...</td>\n",
       "    </tr>\n",
       "    <tr>\n",
       "      <th>4</th>\n",
       "      <td>4</td>\n",
       "      <td>우리가 살아가는 데에 많은 것들이 필요하지만, 가장 먼저 몸과 정신이 건강해야합니다...</td>\n",
       "      <td>평소 식단관리나 생활운동 등 건강에 대하여 관심이 많으면 좋습니다. 사람들을 대상으...</td>\n",
       "      <td>오늘날 인간의 수명은 점차 증가하고 있습니다. 그러나 현대인들은 운동량 부족과 불균...</td>\n",
       "      <td>['헬스케어매니지먼트과(동의과학대학교) ', '스포츠ㆍ건강관리과(부산경상대학교) '...</td>\n",
       "    </tr>\n",
       "  </tbody>\n",
       "</table>\n",
       "</div>"
      ],
      "text/plain": [
       "   Unnamed: 0                                               학과개요  \\\n",
       "0           0  가정교육과의 교육과정은 크게 아동학, 가정관리학, 의류학, 식품학, 영양학, 주거학...   \n",
       "1           1  가족복지과는 사회복지에 대한 새로운 관점에 맞게 가족의 기능을 강화하고 잠재력을 개...   \n",
       "2           2  간호학은 환자의 건강을 유지ㆍ증진시키고 질병의 고통을 줄여 행복한 삶을 살 수 있도...   \n",
       "3           3  나이팅게일 선서에 대해 들어본 적 있나요? 간호사의 역할과 마음가짐에 대한 선서입니...   \n",
       "4           4  우리가 살아가는 데에 많은 것들이 필요하지만, 가장 먼저 몸과 정신이 건강해야합니다...   \n",
       "\n",
       "                                               흥미와적성  \\\n",
       "0  평소 친구, 가족, 주변 사람 등 사람에 대해 관심이 많거나 주변 사람의 고민을 들...   \n",
       "1  가족복지학을 공부하기 위해서는 평소 어려운 사람을 돕는 일을 좋아하고, 심리적ㆍ정서...   \n",
       "2  인체나 질병, 생명 등에 대한 관심이 있고, 남을 도와주는 봉사정신이 있는 사람이면...   \n",
       "3  인체나 질병, 생명 등에 대한 관심이 있고, 남을 도와주는 것을 좋아하는 사람이면 ...   \n",
       "4  평소 식단관리나 생활운동 등 건강에 대하여 관심이 많으면 좋습니다. 사람들을 대상으...   \n",
       "\n",
       "                                                학과특성  \\\n",
       "0  영양학, 의류학, 주거학, 가족학 등의 교과내용학을 배웁니다. 가정과교육론, 가정과...   \n",
       "1  저출산 고령화 사회가 되면서 가족의 기능 강화 및 돌봄 서비스에 대한 사회적 요구가...   \n",
       "2  아픈 사람을 돌보며 다른 사람을 도우며 사는 삶에 대해 배울 수 있는 곳이 간호과입...   \n",
       "3  신체적으로나 정신적으로 건강하게 일생을 살아가는 것은 가장 큰 복이라고 할 수 있습...   \n",
       "4  오늘날 인간의 수명은 점차 증가하고 있습니다. 그러나 현대인들은 운동량 부족과 불균...   \n",
       "\n",
       "                                                  대학  \n",
       "0  ['가정교육과(고려대학교) ', '가정교육과(동국대학교) ', '가정교육과(중앙대학...  \n",
       "1  ['가족복지과(자연)(숭의여자대학교) ', '가족복지과(숭의여자대학교) ', '사회...  \n",
       "2  ['간호학과(삼육보건대학교) ', '간호학과(4년제)(서울여자간호대학교) ', '간...  \n",
       "3  ['간호학과(가톨릭대학교) ', '간호학과(경희대학교) ', '간호학과(고려대학교)...  \n",
       "4  ['헬스케어매니지먼트과(동의과학대학교) ', '스포츠ㆍ건강관리과(부산경상대학교) '...  "
      ]
     },
     "execution_count": 3,
     "metadata": {},
     "output_type": "execute_result"
    }
   ],
   "source": [
    "data.head()"
   ]
  },
  {
   "cell_type": "code",
   "execution_count": 4,
   "id": "regional-discrimination",
   "metadata": {},
   "outputs": [],
   "source": [
    "data.drop(data.columns[0], axis=1, inplace=True)"
   ]
  },
  {
   "cell_type": "markdown",
   "id": "second-thunder",
   "metadata": {},
   "source": [
    "# 2. EDA 및 전처리"
   ]
  },
  {
   "cell_type": "code",
   "execution_count": 5,
   "id": "equipped-mathematics",
   "metadata": {},
   "outputs": [
    {
     "data": {
      "text/plain": [
       "502"
      ]
     },
     "execution_count": 5,
     "metadata": {},
     "output_type": "execute_result"
    }
   ],
   "source": [
    "len(data)"
   ]
  },
  {
   "cell_type": "markdown",
   "id": "honey-regulation",
   "metadata": {},
   "source": [
    "## 학과정보 데이터 생성"
   ]
  },
  {
   "cell_type": "markdown",
   "id": "adjacent-parallel",
   "metadata": {},
   "source": [
    "학과개요, 흥미와적성, 학과특성을 합친 데이터임"
   ]
  },
  {
   "cell_type": "code",
   "execution_count": 6,
   "id": "invalid-assessment",
   "metadata": {},
   "outputs": [],
   "source": [
    "data[\"학과정보\"] = data[\"학과개요\"] + data[\"흥미와적성\"] + data[\"학과특성\"]"
   ]
  },
  {
   "cell_type": "code",
   "execution_count": 7,
   "id": "physical-australia",
   "metadata": {
    "scrolled": true
   },
   "outputs": [
    {
     "data": {
      "text/html": [
       "<div>\n",
       "<style scoped>\n",
       "    .dataframe tbody tr th:only-of-type {\n",
       "        vertical-align: middle;\n",
       "    }\n",
       "\n",
       "    .dataframe tbody tr th {\n",
       "        vertical-align: top;\n",
       "    }\n",
       "\n",
       "    .dataframe thead th {\n",
       "        text-align: right;\n",
       "    }\n",
       "</style>\n",
       "<table border=\"1\" class=\"dataframe\">\n",
       "  <thead>\n",
       "    <tr style=\"text-align: right;\">\n",
       "      <th></th>\n",
       "      <th>학과개요</th>\n",
       "      <th>흥미와적성</th>\n",
       "      <th>학과특성</th>\n",
       "      <th>대학</th>\n",
       "      <th>학과정보</th>\n",
       "    </tr>\n",
       "  </thead>\n",
       "  <tbody>\n",
       "    <tr>\n",
       "      <th>0</th>\n",
       "      <td>가정교육과의 교육과정은 크게 아동학, 가정관리학, 의류학, 식품학, 영양학, 주거학...</td>\n",
       "      <td>평소 친구, 가족, 주변 사람 등 사람에 대해 관심이 많거나 주변 사람의 고민을 들...</td>\n",
       "      <td>영양학, 의류학, 주거학, 가족학 등의 교과내용학을 배웁니다. 가정과교육론, 가정과...</td>\n",
       "      <td>['가정교육과(고려대학교) ', '가정교육과(동국대학교) ', '가정교육과(중앙대학...</td>\n",
       "      <td>가정교육과의 교육과정은 크게 아동학, 가정관리학, 의류학, 식품학, 영양학, 주거학...</td>\n",
       "    </tr>\n",
       "    <tr>\n",
       "      <th>1</th>\n",
       "      <td>가족복지과는 사회복지에 대한 새로운 관점에 맞게 가족의 기능을 강화하고 잠재력을 개...</td>\n",
       "      <td>가족복지학을 공부하기 위해서는 평소 어려운 사람을 돕는 일을 좋아하고, 심리적ㆍ정서...</td>\n",
       "      <td>저출산 고령화 사회가 되면서 가족의 기능 강화 및 돌봄 서비스에 대한 사회적 요구가...</td>\n",
       "      <td>['가족복지과(자연)(숭의여자대학교) ', '가족복지과(숭의여자대학교) ', '사회...</td>\n",
       "      <td>가족복지과는 사회복지에 대한 새로운 관점에 맞게 가족의 기능을 강화하고 잠재력을 개...</td>\n",
       "    </tr>\n",
       "    <tr>\n",
       "      <th>2</th>\n",
       "      <td>간호학은 환자의 건강을 유지ㆍ증진시키고 질병의 고통을 줄여 행복한 삶을 살 수 있도...</td>\n",
       "      <td>인체나 질병, 생명 등에 대한 관심이 있고, 남을 도와주는 봉사정신이 있는 사람이면...</td>\n",
       "      <td>아픈 사람을 돌보며 다른 사람을 도우며 사는 삶에 대해 배울 수 있는 곳이 간호과입...</td>\n",
       "      <td>['간호학과(삼육보건대학교) ', '간호학과(4년제)(서울여자간호대학교) ', '간...</td>\n",
       "      <td>간호학은 환자의 건강을 유지ㆍ증진시키고 질병의 고통을 줄여 행복한 삶을 살 수 있도...</td>\n",
       "    </tr>\n",
       "    <tr>\n",
       "      <th>3</th>\n",
       "      <td>나이팅게일 선서에 대해 들어본 적 있나요? 간호사의 역할과 마음가짐에 대한 선서입니...</td>\n",
       "      <td>인체나 질병, 생명 등에 대한 관심이 있고, 남을 도와주는 것을 좋아하는 사람이면 ...</td>\n",
       "      <td>신체적으로나 정신적으로 건강하게 일생을 살아가는 것은 가장 큰 복이라고 할 수 있습...</td>\n",
       "      <td>['간호학과(가톨릭대학교) ', '간호학과(경희대학교) ', '간호학과(고려대학교)...</td>\n",
       "      <td>나이팅게일 선서에 대해 들어본 적 있나요? 간호사의 역할과 마음가짐에 대한 선서입니...</td>\n",
       "    </tr>\n",
       "    <tr>\n",
       "      <th>4</th>\n",
       "      <td>우리가 살아가는 데에 많은 것들이 필요하지만, 가장 먼저 몸과 정신이 건강해야합니다...</td>\n",
       "      <td>평소 식단관리나 생활운동 등 건강에 대하여 관심이 많으면 좋습니다. 사람들을 대상으...</td>\n",
       "      <td>오늘날 인간의 수명은 점차 증가하고 있습니다. 그러나 현대인들은 운동량 부족과 불균...</td>\n",
       "      <td>['헬스케어매니지먼트과(동의과학대학교) ', '스포츠ㆍ건강관리과(부산경상대학교) '...</td>\n",
       "      <td>우리가 살아가는 데에 많은 것들이 필요하지만, 가장 먼저 몸과 정신이 건강해야합니다...</td>\n",
       "    </tr>\n",
       "  </tbody>\n",
       "</table>\n",
       "</div>"
      ],
      "text/plain": [
       "                                                학과개요  \\\n",
       "0  가정교육과의 교육과정은 크게 아동학, 가정관리학, 의류학, 식품학, 영양학, 주거학...   \n",
       "1  가족복지과는 사회복지에 대한 새로운 관점에 맞게 가족의 기능을 강화하고 잠재력을 개...   \n",
       "2  간호학은 환자의 건강을 유지ㆍ증진시키고 질병의 고통을 줄여 행복한 삶을 살 수 있도...   \n",
       "3  나이팅게일 선서에 대해 들어본 적 있나요? 간호사의 역할과 마음가짐에 대한 선서입니...   \n",
       "4  우리가 살아가는 데에 많은 것들이 필요하지만, 가장 먼저 몸과 정신이 건강해야합니다...   \n",
       "\n",
       "                                               흥미와적성  \\\n",
       "0  평소 친구, 가족, 주변 사람 등 사람에 대해 관심이 많거나 주변 사람의 고민을 들...   \n",
       "1  가족복지학을 공부하기 위해서는 평소 어려운 사람을 돕는 일을 좋아하고, 심리적ㆍ정서...   \n",
       "2  인체나 질병, 생명 등에 대한 관심이 있고, 남을 도와주는 봉사정신이 있는 사람이면...   \n",
       "3  인체나 질병, 생명 등에 대한 관심이 있고, 남을 도와주는 것을 좋아하는 사람이면 ...   \n",
       "4  평소 식단관리나 생활운동 등 건강에 대하여 관심이 많으면 좋습니다. 사람들을 대상으...   \n",
       "\n",
       "                                                학과특성  \\\n",
       "0  영양학, 의류학, 주거학, 가족학 등의 교과내용학을 배웁니다. 가정과교육론, 가정과...   \n",
       "1  저출산 고령화 사회가 되면서 가족의 기능 강화 및 돌봄 서비스에 대한 사회적 요구가...   \n",
       "2  아픈 사람을 돌보며 다른 사람을 도우며 사는 삶에 대해 배울 수 있는 곳이 간호과입...   \n",
       "3  신체적으로나 정신적으로 건강하게 일생을 살아가는 것은 가장 큰 복이라고 할 수 있습...   \n",
       "4  오늘날 인간의 수명은 점차 증가하고 있습니다. 그러나 현대인들은 운동량 부족과 불균...   \n",
       "\n",
       "                                                  대학  \\\n",
       "0  ['가정교육과(고려대학교) ', '가정교육과(동국대학교) ', '가정교육과(중앙대학...   \n",
       "1  ['가족복지과(자연)(숭의여자대학교) ', '가족복지과(숭의여자대학교) ', '사회...   \n",
       "2  ['간호학과(삼육보건대학교) ', '간호학과(4년제)(서울여자간호대학교) ', '간...   \n",
       "3  ['간호학과(가톨릭대학교) ', '간호학과(경희대학교) ', '간호학과(고려대학교)...   \n",
       "4  ['헬스케어매니지먼트과(동의과학대학교) ', '스포츠ㆍ건강관리과(부산경상대학교) '...   \n",
       "\n",
       "                                                학과정보  \n",
       "0  가정교육과의 교육과정은 크게 아동학, 가정관리학, 의류학, 식품학, 영양학, 주거학...  \n",
       "1  가족복지과는 사회복지에 대한 새로운 관점에 맞게 가족의 기능을 강화하고 잠재력을 개...  \n",
       "2  간호학은 환자의 건강을 유지ㆍ증진시키고 질병의 고통을 줄여 행복한 삶을 살 수 있도...  \n",
       "3  나이팅게일 선서에 대해 들어본 적 있나요? 간호사의 역할과 마음가짐에 대한 선서입니...  \n",
       "4  우리가 살아가는 데에 많은 것들이 필요하지만, 가장 먼저 몸과 정신이 건강해야합니다...  "
      ]
     },
     "execution_count": 7,
     "metadata": {},
     "output_type": "execute_result"
    }
   ],
   "source": [
    "data.head()"
   ]
  },
  {
   "cell_type": "markdown",
   "id": "immediate-blocking",
   "metadata": {},
   "source": [
    "## 정규 표현식을 통한 한글 외 문자 제거"
   ]
  },
  {
   "cell_type": "code",
   "execution_count": 8,
   "id": "completed-defendant",
   "metadata": {},
   "outputs": [],
   "source": [
    "data[\"학과정보\"] = data['학과정보'].str.replace(\"[^ㄱ-ㅎㅏ-ㅣ가-힣 ]\",\"\")"
   ]
  },
  {
   "cell_type": "markdown",
   "id": "formal-vertical",
   "metadata": {},
   "source": [
    "## 불용어 정의"
   ]
  },
  {
   "cell_type": "code",
   "execution_count": 9,
   "id": "blessed-questionnaire",
   "metadata": {},
   "outputs": [],
   "source": [
    "stopwords = ['은', '는', '이', '가', '을', '를', '합니다', '입니다', '등', '의', '에', '대해', '과']"
   ]
  },
  {
   "cell_type": "markdown",
   "id": "hollow-inflation",
   "metadata": {},
   "source": [
    "## 토큰화 작업 및 불용어 제거"
   ]
  },
  {
   "cell_type": "code",
   "execution_count": 10,
   "id": "dynamic-bishop",
   "metadata": {},
   "outputs": [],
   "source": [
    "okt = Okt()\n",
    "tokenized_data = []\n",
    "for sentence in data[\"학과정보\"]:\n",
    "    token = okt.morphs(sentence, stem=True) # 토큰화\n",
    "    token = [word for word in token if not word in stopwords] # 불용어 제거\n",
    "    token = \" \".join(token)\n",
    "    tokenized_data.append(token)"
   ]
  },
  {
   "cell_type": "code",
   "execution_count": 11,
   "id": "close-activity",
   "metadata": {},
   "outputs": [],
   "source": [
    "data[\"학과정보\"] = tokenized_data"
   ]
  },
  {
   "cell_type": "markdown",
   "id": "military-fleece",
   "metadata": {},
   "source": [
    "# 3. Word2Vec 모델 생성"
   ]
  },
  {
   "cell_type": "code",
   "execution_count": 12,
   "id": "cheap-bicycle",
   "metadata": {},
   "outputs": [],
   "source": [
    "word2vec_model = Word2Vec(sentences = data[\"학과정보\"], size = 100, window = 5, min_count = 2, workers = 4, sg = 1)"
   ]
  },
  {
   "cell_type": "markdown",
   "id": "private-arnold",
   "metadata": {},
   "source": [
    "# 4. Doc2Vec"
   ]
  },
  {
   "cell_type": "markdown",
   "id": "mineral-partition",
   "metadata": {},
   "source": [
    "## 단어 벡터의 평균 구하기"
   ]
  },
  {
   "cell_type": "code",
   "execution_count": 13,
   "id": "incomplete-pathology",
   "metadata": {},
   "outputs": [],
   "source": [
    "def vectors(major_info):\n",
    "    document_embedding_list = []\n",
    "\n",
    "    # 각 학과에 대해서\n",
    "    for words in major_info:\n",
    "        doc2vec = None\n",
    "        count = 0\n",
    "        for word in words:\n",
    "            if word in word2vec_model.wv.vocab:\n",
    "                count += 1\n",
    "                # 해당 문서에 있는 모든 단어들의 벡터값을 더한다.\n",
    "                if doc2vec is None:\n",
    "                    doc2vec = word2vec_model[word]\n",
    "                else:\n",
    "                    doc2vec = doc2vec + word2vec_model[word]\n",
    "\n",
    "        if doc2vec is not None:\n",
    "            # 단어 벡터를 모두 더한 벡터의 값을 문서 길이로 나눠준다.\n",
    "            doc2vec = doc2vec / count\n",
    "            document_embedding_list.append(doc2vec)\n",
    "\n",
    "    # 각 문서에 대한 문서 벡터 리스트를 리턴\n",
    "    return document_embedding_list"
   ]
  },
  {
   "cell_type": "code",
   "execution_count": 14,
   "id": "accessible-atlantic",
   "metadata": {},
   "outputs": [
    {
     "name": "stdout",
     "output_type": "stream",
     "text": [
      "문서 벡터의 수 : 502\n"
     ]
    }
   ],
   "source": [
    "document_embedding_list = vectors(data[\"학과정보\"])\n",
    "print('문서 벡터의 수 :',len(document_embedding_list))"
   ]
  },
  {
   "cell_type": "markdown",
   "id": "rough-pride",
   "metadata": {},
   "source": [
    "# 5. 추천 시스템 구현하기"
   ]
  },
  {
   "cell_type": "markdown",
   "id": "radical-flooring",
   "metadata": {},
   "source": [
    "## 코사인 유사도"
   ]
  },
  {
   "cell_type": "code",
   "execution_count": 15,
   "id": "ordinary-announcement",
   "metadata": {},
   "outputs": [
    {
     "name": "stdout",
     "output_type": "stream",
     "text": [
      "코사인 유사도 매트릭스의 크기 : (502, 502)\n"
     ]
    }
   ],
   "source": [
    "cosine_similarities = cosine_similarity(document_embedding_list, document_embedding_list)\n",
    "print('코사인 유사도 매트릭스의 크기 :',cosine_similarities.shape)"
   ]
  },
  {
   "cell_type": "code",
   "execution_count": 16,
   "id": "irish-huntington",
   "metadata": {},
   "outputs": [],
   "source": [
    "def recommendations(idx):\n",
    "    sim_scores = list(enumerate(cosine_similarities[idx]))\n",
    "    sim_scores = sorted(sim_scores, key = lambda x: x[1], reverse = True)\n",
    "    sim_scores = sim_scores[1:6]\n",
    "    \n",
    "    major_indices = [i[0] for i in sim_scores]\n",
    "    \n",
    "    return data.iloc[major_indices][\"대학\"]"
   ]
  },
  {
   "cell_type": "markdown",
   "id": "metric-parks",
   "metadata": {},
   "source": [
    "## 가족복지과와 비슷한 학과"
   ]
  },
  {
   "cell_type": "code",
   "execution_count": 17,
   "id": "positive-plate",
   "metadata": {
    "scrolled": true
   },
   "outputs": [
    {
     "data": {
      "text/plain": [
       "190    ['사회복지학과(명지전문대학) ', '사회복지과(명지전문대학) ', '사회복지학부(...\n",
       "192    ['사회복지학부(경희사이버대학교) ', '사회복지전공(경희사이버대학교) ', '평생...\n",
       "191    ['사회서비스상담복지과(명지전문대학) ', '사회복지상담과(부산여자대학교) ', '...\n",
       "85     ['노인케어창업과(삼육보건대학교) ', '노인복지과(삼육보건대학교) ', '노인헬스...\n",
       "333    ['일반사회교육과(부산대학교) ', '사회교육학부 일반사회교육전공(경북대학교) ',...\n",
       "Name: 대학, dtype: object"
      ]
     },
     "execution_count": 17,
     "metadata": {},
     "output_type": "execute_result"
    }
   ],
   "source": [
    "idx = 1\n",
    "\n",
    "recommendations(idx)"
   ]
  },
  {
   "cell_type": "markdown",
   "id": "attempted-formation",
   "metadata": {},
   "source": [
    "## 간호과와 비슷한 학과"
   ]
  },
  {
   "cell_type": "code",
   "execution_count": 18,
   "id": "african-knock",
   "metadata": {},
   "outputs": [
    {
     "data": {
      "text/plain": [
       "3      ['간호학과(가톨릭대학교) ', '간호학과(경희대학교) ', '간호학과(고려대학교)...\n",
       "313    ['윤리문화학전공(동국대학교) ', '윤리문화학과(동국대학교) ', '윤리문화학과(...\n",
       "312    ['윤리교육과(서울대학교) ', '윤리교육과(성신여자대학교) ', '윤리교육과(경성...\n",
       "390    ['공간정보공학과(서울시립대학교) ', '공간정보공학과(세종대학교) ', '지구정보...\n",
       "33     ['뇌교육융합학과(글로벌사이버대학교) ', '과학교육계열(서울대학교) ', '과학교...\n",
       "Name: 대학, dtype: object"
      ]
     },
     "execution_count": 18,
     "metadata": {},
     "output_type": "execute_result"
    }
   ],
   "source": [
    "idx = 2\n",
    "\n",
    "recommendations(idx)"
   ]
  },
  {
   "cell_type": "markdown",
   "id": "stock-vampire",
   "metadata": {},
   "source": [
    "## 건축공학과와 비슷한 학과"
   ]
  },
  {
   "cell_type": "code",
   "execution_count": 19,
   "id": "disabled-premium",
   "metadata": {},
   "outputs": [
    {
     "data": {
      "text/plain": [
       "11     ['건축학부(건국대학교) ', '건축설계전공(건국대학교) ', '주거환경전공(건국대...\n",
       "436    ['사회환경플랜트공학과(건국대학교) ', '토목공학과(건국대학교) ', '토목 ㆍ ...\n",
       "437    ['토목공학과(명지전문대학) ', '토목과(명지전문대학) ', '토목공학과(서일대학...\n",
       "10     ['건설계열(부산과학기술대학교) ', '건설공병학과(대덕대학교) ', '친환경건축설...\n",
       "378    ['크루즈해양ㆍ인테리어과(동주대학교) ', '조선해양과(동주대학교) ', '조선해양...\n",
       "Name: 대학, dtype: object"
      ]
     },
     "execution_count": 19,
     "metadata": {},
     "output_type": "execute_result"
    }
   ],
   "source": [
    "idx = 8\n",
    "\n",
    "recommendations(idx)"
   ]
  },
  {
   "cell_type": "markdown",
   "id": "adequate-complexity",
   "metadata": {},
   "source": [
    "----"
   ]
  },
  {
   "cell_type": "markdown",
   "id": "violent-pressing",
   "metadata": {},
   "source": [
    "# 결론 및 향후 방향"
   ]
  },
  {
   "cell_type": "markdown",
   "id": "excess-paint",
   "metadata": {},
   "source": [
    "- 학생의 대입 서류와 학과정보의 코사인 유사도를 통해 학과 추천해주는 방법 마련하기\n",
    "- 데이터 구축 다시 하기\n",
    "    - 학과명, 관련직업, 공부하는 주요 교과목 등 넣기\n",
    "- 데이터가 502개로 매우 부족함 => 방법 찾기\n",
    "- 추천 정확도 높이기"
   ]
  }
 ],
 "metadata": {
  "kernelspec": {
   "display_name": "Python 3",
   "language": "python",
   "name": "python3"
  },
  "language_info": {
   "codemirror_mode": {
    "name": "ipython",
    "version": 3
   },
   "file_extension": ".py",
   "mimetype": "text/x-python",
   "name": "python",
   "nbconvert_exporter": "python",
   "pygments_lexer": "ipython3",
   "version": "3.7.4"
  }
 },
 "nbformat": 4,
 "nbformat_minor": 5
}
