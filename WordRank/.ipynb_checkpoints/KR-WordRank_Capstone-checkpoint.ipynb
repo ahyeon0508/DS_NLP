{
 "cells": [
  {
   "cell_type": "markdown",
   "id": "regional-corporation",
   "metadata": {},
   "source": [
    "# KR-WordRank_Capstone"
   ]
  },
  {
   "cell_type": "markdown",
   "id": "clean-prescription",
   "metadata": {},
   "source": [
    "- '새내기路(로) : AI기반 대입 모의 면접 솔루션' 프로젝트의 학교생활기록부, 자기소개서를 분석하여 질문을 추출하는 기능은 키워드 추출 단계가 필요함.\n",
    "- 여러 가지 키워드 추출 방법이 있지만 그 중에서 WorkRank에 한국어의 특징을 반영한 **KR-WordRank**(토크나이저를 이용하지 않으면서도 비지도학습 기반으로 한국어 단어를 추출함)를 적용해봄\n",
    "- 라이브러리 제공 : [lovit/KR-WordRank](https://github.com/lovit/KR-WordRank)"
   ]
  },
  {
   "cell_type": "markdown",
   "id": "enabling-central",
   "metadata": {},
   "source": [
    "---"
   ]
  },
  {
   "cell_type": "markdown",
   "id": "graduate-calgary",
   "metadata": {},
   "source": [
    "## 라이브러리 호출"
   ]
  },
  {
   "cell_type": "code",
   "execution_count": 1,
   "id": "ignored-cooler",
   "metadata": {},
   "outputs": [],
   "source": [
    "from krwordrank.word import KRWordRank"
   ]
  },
  {
   "cell_type": "code",
   "execution_count": null,
   "id": "practical-worth",
   "metadata": {},
   "outputs": [],
   "source": []
  }
 ],
 "metadata": {
  "kernelspec": {
   "display_name": "Python 3",
   "language": "python",
   "name": "python3"
  },
  "language_info": {
   "codemirror_mode": {
    "name": "ipython",
    "version": 3
   },
   "file_extension": ".py",
   "mimetype": "text/x-python",
   "name": "python",
   "nbconvert_exporter": "python",
   "pygments_lexer": "ipython3",
   "version": "3.9.1"
  }
 },
 "nbformat": 4,
 "nbformat_minor": 5
}
