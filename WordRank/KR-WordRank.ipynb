{
 "cells": [
  {
   "cell_type": "markdown",
   "id": "regional-corporation",
   "metadata": {},
   "source": [
    "# KR-WordRank"
   ]
  },
  {
   "cell_type": "markdown",
   "id": "clean-prescription",
   "metadata": {},
   "source": [
    "- 키워드 추출 방법에는 TextRank, WordRank, BERT 등이 있으며 그 중에서 WorkRank에 한국어의 특징을 반영한 **KR-WordRank**(토크나이저를 이용하지 않으면서도 비지도학습 기반으로 한국어 단어를 추출함)에 대해 학습해보았다\n",
    "- 라이브러리 제공 및 참고 : [lovit/KR-WordRank](https://github.com/lovit/KR-WordRank)"
   ]
  },
  {
   "cell_type": "markdown",
   "id": "enabling-central",
   "metadata": {},
   "source": [
    "---"
   ]
  },
  {
   "cell_type": "markdown",
   "id": "graduate-calgary",
   "metadata": {},
   "source": [
    "## 라이브러리 호출"
   ]
  },
  {
   "cell_type": "code",
   "execution_count": 1,
   "id": "ignored-cooler",
   "metadata": {},
   "outputs": [],
   "source": [
    "from krwordrank.word import KRWordRank"
   ]
  },
  {
   "cell_type": "markdown",
   "id": "found-portfolio",
   "metadata": {},
   "source": [
    "## 리뷰, 평점 데이터 받아오기"
   ]
  },
  {
   "cell_type": "code",
   "execution_count": 2,
   "id": "practical-worth",
   "metadata": {},
   "outputs": [],
   "source": [
    "def get_texts_scores(fname):\n",
    "    with open(fname, encoding='utf-8') as f:\n",
    "        docs = [doc.lower().replace('\\n','').split('\\t') for doc in f]\n",
    "        docs = [doc for doc in docs if len(doc) == 2]\n",
    "\n",
    "        if not docs:\n",
    "            return [], []\n",
    "\n",
    "        texts, scores = zip(*docs)\n",
    "        return list(texts), list(scores)"
   ]
  },
  {
   "cell_type": "code",
   "execution_count": 3,
   "id": "suitable-organizer",
   "metadata": {},
   "outputs": [
    {
     "name": "stdout",
     "output_type": "stream",
     "text": [
      "시사회에서 보고왔습니다동화와 재즈뮤지컬의 만남 지루하지않고 재밌습니다\t9\n",
      "사랑과 꿈 그 흐름의 아름다움을 음악과 영상으로 최대한 담아놓았다 배우들 연기는 두말할것없고\t10\n",
      "지금껏 영화 평가 해본 적이 없는데 진짜 최고네요 색감 스토리 음악 연기 모두ㅜㅜ최고입니다\t10\n",
      "방금 시사회 보고 왔어요 배우들 매력이 눈을 뗄 수가 없게 만드네요 한편의 그림 같은 장면들도 많고 음악과 춤이 눈과 귀를 사로 잡았어요 한번 더 보고 싶네요\t10\n",
      "초반부터 끝까지 재미있게 잘보다가 결말에서 고국마 왕창먹음 힐링 받는 느낌들다가 막판에 기분 잡쳤습니다 마치 감독이 하고싶은 말은 너희들이 원하는 결말은 이거지 하지만 현실은 이거다 라고 말하고 싶었나보군요\t1\n"
     ]
    }
   ],
   "source": [
    "# La La Land 데이터 불러오기\n",
    "# 134963_norm.txt 파일은 이미 ','나 '!'등의 기호등이 제거되어 있음\n",
    "fname = 'data/134963_norm.txt'\n",
    "sentences, scores = get_texts_scores(fname)\n",
    "\n",
    "with open(fname, encoding=\"utf-8\") as f:\n",
    "    for _ in range(5):\n",
    "        print(next(f).strip())"
   ]
  },
  {
   "cell_type": "markdown",
   "id": "signed-proof",
   "metadata": {},
   "source": [
    "참고 : 단어 추출에 영어/숫자를 포함할 예정이라면 normalize함수를 이용하여 텍스트를 normalize 해야한다\n",
    "\n",
    "```python\n",
    "with open('../data/134963_norm.txt', 'w', encoding='utf-8') as f:\n",
    "    for text, score in zip(texts, scores):\n",
    "        text = normalize(text, english=True, number=True)\n",
    "        f.write('%s\\t%s\\n' % (text, str(score)))\n",
    "```"
   ]
  },
  {
   "cell_type": "markdown",
   "id": "greenhouse-corruption",
   "metadata": {},
   "source": [
    "## 학습\n",
    "- Substring graph를 만들기 위한 변수의 값 설정\n",
    "- KR-WordRank는 PageRank 와 비슷한 Graph ranking 알고리즘을 사용하여 단어를 추출함 (HITS algorithm)\n",
    "- Substring graph에서 node (substrig) 랭킹을 계산하기 위하여 Graph ranking 알고리즘의 parameters(beta, max_iter 등) 가 입력되야 함"
   ]
  },
  {
   "cell_type": "code",
   "execution_count": 4,
   "id": "varying-analyst",
   "metadata": {},
   "outputs": [],
   "source": [
    "wordrank_extractor = KRWordRank(\n",
    "    min_count = 5, # 단어의 최소 출현 빈도수 (그래프 생성 시)\n",
    "    max_length = 10, # 단어의 최대 길이\n",
    "    verbose = False\n",
    "    )\n",
    "\n",
    "beta = 0.85    # PageRank의 decaying factor beta (단어별로 bias 다르게 할당할 수 있음)\n",
    "max_iter = 10\n",
    "\n",
    "# Keywords : filtering 이 적용된 L parts\n",
    "# rank : substring graph 의 모든 subsrting 에 대한 rank\n",
    "# graph : substring graph\n",
    "keywords, rank, graph = wordrank_extractor.extract(sentences, beta, max_iter)"
   ]
  },
  {
   "cell_type": "markdown",
   "id": "packed-coaching",
   "metadata": {},
   "source": [
    "## 키워드 출력\n",
    "- Graph ranking 이 높은 노드들(substrings)이 후처리 과정을 거쳐 단어로 출력됨"
   ]
  },
  {
   "cell_type": "code",
   "execution_count": 5,
   "id": "saving-charleston",
   "metadata": {
    "scrolled": false
   },
   "outputs": [
    {
     "name": "stdout",
     "output_type": "stream",
     "text": [
      "      영화:\t201.0240\n",
      "      너무:\t81.5370\n",
      "      정말:\t40.5371\n",
      "      음악:\t40.4345\n",
      "     마지막:\t38.5985\n",
      "     뮤지컬:\t23.1988\n",
      "      최고:\t21.8101\n",
      "      사랑:\t20.6385\n",
      "      꿈을:\t20.4374\n",
      "      아름:\t20.3247\n",
      "      영상:\t20.2840\n",
      "     여운이:\t19.4714\n",
      "      진짜:\t19.0643\n",
      "      노래:\t18.7328\n",
      "      보고:\t18.5672\n",
      "      좋았:\t17.6183\n",
      "      그냥:\t16.5545\n",
      "     스토리:\t16.2774\n",
      "      좋은:\t15.6410\n",
      "      인생:\t15.3880\n",
      "      현실:\t15.1927\n",
      "      생각:\t14.9100\n",
      "      지루:\t13.7795\n",
      "      다시:\t13.5981\n",
      "      감동:\t13.5832\n",
      "      보는:\t12.4724\n",
      "      좋아:\t11.9823\n",
      "      재밌:\t11.8935\n",
      "      재미:\t11.3930\n",
      "      좋고:\t11.3474\n"
     ]
    }
   ],
   "source": [
    "for word, r in sorted(keywords.items(), key=lambda x:x[1], reverse=True)[:30]:\n",
    "    print('%8s:\\t%.4f' % (word, r))"
   ]
  },
  {
   "cell_type": "markdown",
   "id": "characteristic-binary",
   "metadata": {},
   "source": [
    "- 영화 리뷰하면 많이 나오는 단어 제외(여러 가지 영화를 가져와서 공통 단어를 비교해봐야함)"
   ]
  },
  {
   "cell_type": "code",
   "execution_count": 6,
   "id": "beautiful-blade",
   "metadata": {
    "scrolled": false
   },
   "outputs": [
    {
     "name": "stdout",
     "output_type": "stream",
     "text": [
      "      음악:\t40.4345\n",
      "     뮤지컬:\t23.1988\n",
      "      사랑:\t20.6385\n",
      "      꿈을:\t20.4374\n",
      "      아름:\t20.3247\n",
      "      영상:\t20.2840\n",
      "     여운이:\t19.4714\n",
      "      노래:\t18.7328\n",
      "      좋은:\t15.6410\n",
      "      인생:\t15.3880\n",
      "      현실:\t15.1927\n",
      "      감동:\t13.5832\n",
      "      좋고:\t11.3474\n"
     ]
    }
   ],
   "source": [
    "stopwords = {'많이', '마지막', '봤는데', '재밌', '한번', '별로', '정말', '하지만', '모두', '진짜', '보면', '조금', '스토리', '지루', '가장', '느낌', '최고', 'ㅎㅎ', '이런', '영화', '생각', '기대', '그냥', '아니', 'ㅠㅠ', '좋았', '그리고', '하나', '재미', '너무', '이렇게', '처음', '내용', '평점', '보고', '내가', '봤습니다', '다시', '좋아', '있는', '보는'}\n",
    "keywords = {word:score for word, score in sorted(\n",
    "    keywords.items(), key=lambda x:-x[1])[:30] if not (word in stopwords)}\n",
    "\n",
    "for word, r in sorted(keywords.items(), key=lambda x:x[1], reverse=True)[:30]:\n",
    "    print('%8s:\\t%.4f' % (word, r))"
   ]
  },
  {
   "cell_type": "markdown",
   "id": "israeli-party",
   "metadata": {},
   "source": [
    "- 여러 가지 영화 리뷰를 가져와서 공통 단어 비교하는 예시\n",
    "\n",
    "```python\n",
    "top_keywords = []\n",
    "fnames = ['data/134963_norm.txt',\n",
    "          'data/91031_norm.txt',\n",
    "          'data/99714_norm.txt']\n",
    "\n",
    "for fname in fnames:\n",
    "    \n",
    "    sentences, scores = get_texts_scores(fname)\n",
    "    \n",
    "    wordrank_extractor = KRWordRank(\n",
    "        min_count=5, max_length=10, verbose=False)\n",
    "    \n",
    "    keywords, rank, graph = wordrank_extractor.extract(\n",
    "        sentences, beta, max_iter)\n",
    "    \n",
    "    top_keywords.append(\n",
    "        sorted(keywords.items(),\n",
    "               key=lambda x:x[1],\n",
    "               reverse=True)[:100]\n",
    "    )\n",
    "    \n",
    "movie_names = ['라라랜드', '신세계', '엑스맨']\n",
    "for k in range(100):\n",
    "    \n",
    "    message = '  --  '.join(\n",
    "        ['%8s (%.3f)' % (top_keywords[i][k][0],top_keywords[i][k][1])\n",
    "         for i in range(3)])\n",
    "    \n",
    "    print(message)\n",
    "    \n",
    "keyword_counter = {}\n",
    "for keywords in top_keywords:\n",
    "    words, ranks = zip(*keywords)\n",
    "    for word in words:\n",
    "        keyword_counter[word] = keyword_counter.get(word, 0) + 1\n",
    "\n",
    "common_keywords = {word for word, count in keyword_counter.items() if count == 3}\n",
    "str(common_keywords)\n",
    "```"
   ]
  },
  {
   "cell_type": "markdown",
   "id": "sound-dispatch",
   "metadata": {},
   "source": [
    "--------"
   ]
  },
  {
   "cell_type": "markdown",
   "id": "discrete-nirvana",
   "metadata": {},
   "source": [
    "## summarize_with_keywords\n",
    "- 위의 과정을 간단하게 수행하는 함수"
   ]
  },
  {
   "cell_type": "code",
   "execution_count": 7,
   "id": "catholic-scratch",
   "metadata": {},
   "outputs": [
    {
     "name": "stdout",
     "output_type": "stream",
     "text": [
      "scan vocabs ... \n",
      "num vocabs = 13879\n",
      "done = 9 Early stopped.\n",
      "      음악:\t40.4345\n",
      "     뮤지컬:\t23.1988\n",
      "      사랑:\t20.6385\n",
      "      꿈을:\t20.4374\n",
      "      아름:\t20.3247\n",
      "      영상:\t20.2840\n",
      "     여운이:\t19.4714\n",
      "      노래:\t18.7328\n",
      "      좋은:\t15.6410\n",
      "      인생:\t15.3880\n",
      "      현실:\t15.1927\n",
      "      감동:\t13.5832\n",
      "      좋고:\t11.3474\n",
      "      계속:\t11.1173\n",
      "      결말:\t10.5837\n",
      "      연기:\t10.5010\n",
      "      장면:\t10.3472\n",
      "      하는:\t10.2650\n",
      "      사람:\t9.5683\n",
      "      남는:\t9.0554\n",
      "      재즈:\t9.0396\n",
      "     라이언:\t8.9898\n",
      "      연출:\t8.6096\n",
      "     눈물이:\t8.5577\n",
      "      모든:\t8.4206\n",
      "      올해:\t8.0733\n",
      "      꿈과:\t7.7468\n",
      "      같은:\t7.7006\n",
      "      배우:\t7.6030\n",
      "      of:\t7.5947\n"
     ]
    }
   ],
   "source": [
    "from krwordrank.word import summarize_with_keywords\n",
    "\n",
    "keywords = summarize_with_keywords(sentences, min_count=5, max_length=10,\n",
    "    beta=0.85, max_iter=10, stopwords=stopwords, verbose=True)\n",
    "\n",
    "for word, r in sorted(keywords.items(), key=lambda x:x[1], reverse=True)[:30]:\n",
    "    print('%8s:\\t%.4f' % (word, r))"
   ]
  },
  {
   "cell_type": "markdown",
   "id": "warming-telephone",
   "metadata": {},
   "source": [
    "## 결론"
   ]
  },
  {
   "cell_type": "markdown",
   "id": "stuffed-chocolate",
   "metadata": {},
   "source": [
    "- 라라랜드 리뷰의 핵심 키워드 3개는 **음악, 뮤지컬, 사랑**이다."
   ]
  }
 ],
 "metadata": {
  "kernelspec": {
   "display_name": "Python 3",
   "language": "python",
   "name": "python3"
  },
  "language_info": {
   "codemirror_mode": {
    "name": "ipython",
    "version": 3
   },
   "file_extension": ".py",
   "mimetype": "text/x-python",
   "name": "python",
   "nbconvert_exporter": "python",
   "pygments_lexer": "ipython3",
   "version": "3.9.1"
  }
 },
 "nbformat": 4,
 "nbformat_minor": 5
}
