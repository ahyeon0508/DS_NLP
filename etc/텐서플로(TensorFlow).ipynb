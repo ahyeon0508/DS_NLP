{
 "cells": [
  {
   "cell_type": "markdown",
   "id": "simple-romantic",
   "metadata": {},
   "source": [
    "📖 참고 : 텐서플로2와 머신러닝으로 시작하는 자연어 처리"
   ]
  },
  {
   "cell_type": "markdown",
   "id": "together-horror",
   "metadata": {},
   "source": [
    "# 텐서플로(TensorFlow)"
   ]
  },
  {
   "cell_type": "markdown",
   "id": "catholic-relative",
   "metadata": {},
   "source": [
    "구글에서 2015년에 오픈소스로 발표한 머신러닝 라이브러리로, 아래와 같은 특징이 있다.\n",
    "\n",
    "- 데이터 플로 그래프를 통한 풍부한 표현력\n",
    "- 아이디어 테스트에서 서비스 단계까지 이용 가능\n",
    "- 계산 구조와 목표 함수만 정의하면 자동으로 미분 계산을 처리\n",
    "- 파이선/C++를 지원하며, SWIG를 통해 다양한 언어 지원 가능\n",
    "- 유연성과 확장성\n",
    "\n",
    "텐서(Tensor) : N차원 매트릭스  \n",
    "플로(Flow) : 데이터 흐름 그래프를 사용해 수치 연산을 하는 과정"
   ]
  },
  {
   "cell_type": "markdown",
   "id": "copyrighted-clone",
   "metadata": {},
   "source": [
    "------"
   ]
  },
  {
   "cell_type": "markdown",
   "id": "sorted-anxiety",
   "metadata": {},
   "source": [
    "# tf.keras.layers"
   ]
  },
  {
   "cell_type": "markdown",
   "id": "incorporate-bikini",
   "metadata": {},
   "source": [
    "- 텐서플로를 이용해 하나의 딥러닝 모델을 만드는 것은 마치 블록을 하나씩 샇아서 전체 구조를 만들어 가는 것과 비슷하다.\n",
    "- 텐서플로에는블록 역햘을 할 수 있는 모듈의 종류가 다양한데, tf.keras.layers는 그 중에서 케라스 모듈 중 하나이다.  \n",
    "(케라스는 텐서플로와 같은 별개의 딥러닝 오픈소스인데, 텐서플로에서 사용이 가능하다)"
   ]
  },
  {
   "cell_type": "markdown",
   "id": "copyrighted-inspiration",
   "metadata": {},
   "source": [
    "## tf.keras.layers.Dense"
   ]
  },
  {
   "cell_type": "markdown",
   "id": "contrary-rally",
   "metadata": {},
   "source": [
    "- 신경망 구조의 가장 기본적인 형태\n",
    "- y=f(Wx+b) // f : 활성화 함수, W : 가중치 행렬, x : 입력 벡터, b : 편향 벡터"
   ]
  },
  {
   "cell_type": "code",
   "execution_count": 1,
   "id": "south-vaccine",
   "metadata": {},
   "outputs": [],
   "source": [
    "import tensorflow as tf"
   ]
  },
  {
   "cell_type": "code",
   "execution_count": 2,
   "id": "assigned-passage",
   "metadata": {},
   "outputs": [],
   "source": [
    "INPUT_SIZE = (20, 1)\n",
    "CONV_INPUT_SIZE = (1, 28, 28)\n",
    "IS_TRAINING = True"
   ]
  },
  {
   "cell_type": "code",
   "execution_count": 3,
   "id": "automatic-investigator",
   "metadata": {},
   "outputs": [],
   "source": [
    "inputs = tf.keras.layers.Input(shape = INPUT_SIZE)\n",
    "output = tf.keras.layers.Dense(units = 10, activation = tf.nn.sigmoid)(inputs) "
   ]
  },
  {
   "cell_type": "code",
   "execution_count": 4,
   "id": "framed-stability",
   "metadata": {},
   "outputs": [],
   "source": [
    "inputs = tf.keras.layers.Input(shape = INPUT_SIZE)\n",
    "hidden = tf.keras.layers.Dense(units = 10, activation = tf.nn.sigmoid)(inputs)\n",
    "output = tf.keras.layers.Dense(units = 2, activation = tf.nn.sigmoid)(hidden)"
   ]
  }
 ],
 "metadata": {
  "kernelspec": {
   "display_name": "Python 3",
   "language": "python",
   "name": "python3"
  },
  "language_info": {
   "codemirror_mode": {
    "name": "ipython",
    "version": 3
   },
   "file_extension": ".py",
   "mimetype": "text/x-python",
   "name": "python",
   "nbconvert_exporter": "python",
   "pygments_lexer": "ipython3",
   "version": "3.7.4"
  }
 },
 "nbformat": 4,
 "nbformat_minor": 5
}
