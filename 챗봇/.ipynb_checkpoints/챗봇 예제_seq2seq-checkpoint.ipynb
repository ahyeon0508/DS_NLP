{
 "cells": [
  {
   "cell_type": "markdown",
   "id": "confused-disposal",
   "metadata": {},
   "source": [
    "📖 참고 : 텐서플로2와 머신러닝으로 시작하는 자연어 처리"
   ]
  },
  {
   "cell_type": "markdown",
   "id": "descending-stopping",
   "metadata": {},
   "source": [
    "# 챗봇 예제_seq2seq"
   ]
  },
  {
   "cell_type": "markdown",
   "id": "announced-damages",
   "metadata": {},
   "source": [
    "### 데이터 소개 \n",
    "- [Chatbot_data_for_Korean v1.0](https://github.com/songys/Chatbot_data)\n",
    "- 총 11,876개의 데이터로 이루어짐\n",
    "- 각 데이터는 질문과 그에 대한 대답, 주제에 대한 라벨값을 가지고 있음"
   ]
  },
  {
   "cell_type": "markdown",
   "id": "wireless-spending",
   "metadata": {},
   "source": [
    "----"
   ]
  },
  {
   "cell_type": "markdown",
   "id": "charitable-butter",
   "metadata": {},
   "source": [
    "# 1. 라이브러리 호출 및 데이터 읽기"
   ]
  },
  {
   "cell_type": "code",
   "execution_count": 1,
   "id": "greatest-longer",
   "metadata": {},
   "outputs": [],
   "source": [
    "import tensorflow as tf\n",
    "import numpy as np\n",
    "import os\n",
    "\n",
    "from tensorflow.keras.callbacks import EarlyStopping, ModelCheckpoint\n",
    "import matplotlib.pyplot as plt\n",
    "\n",
    "from preprocess import *"
   ]
  },
  {
   "cell_type": "code",
   "execution_count": 2,
   "id": "opening-rendering",
   "metadata": {},
   "outputs": [],
   "source": [
    "DATA_IN_PATH = './data/'\n",
    "DATA_OUT_PATH = './data_out/'\n",
    "TRAIN_INPUTS = 'train_inputs.npy'\n",
    "TRAIN_OUTPUTS = 'train_outputs.npy'\n",
    "TRAIN_TARGETS = 'train_targets.npy'\n",
    "DATA_CONFIGS = 'data_configs.json'"
   ]
  },
  {
   "cell_type": "code",
   "execution_count": 3,
   "id": "ordinary-kitty",
   "metadata": {},
   "outputs": [],
   "source": [
    "SEED_NUM = 1234\n",
    "tf.random.set_seed(SEED_NUM)"
   ]
  },
  {
   "cell_type": "code",
   "execution_count": 4,
   "id": "metallic-interstate",
   "metadata": {},
   "outputs": [],
   "source": [
    "index_inputs = np.load(open(DATA_IN_PATH + TRAIN_INPUTS, 'rb'))\n",
    "index_outputs = np.load(open(DATA_IN_PATH + TRAIN_OUTPUTS , 'rb'))\n",
    "index_targets = np.load(open(DATA_IN_PATH + TRAIN_TARGETS , 'rb'))\n",
    "prepro_configs = json.load(open(DATA_IN_PATH + DATA_CONFIGS, 'r'))"
   ]
  },
  {
   "cell_type": "code",
   "execution_count": 5,
   "id": "threatened-going",
   "metadata": {
    "scrolled": true
   },
   "outputs": [
    {
     "name": "stdout",
     "output_type": "stream",
     "text": [
      "20 20 20\n"
     ]
    }
   ],
   "source": [
    "print(len(index_inputs),  len(index_outputs), len(index_targets))"
   ]
  },
  {
   "cell_type": "code",
   "execution_count": 6,
   "id": "likely-sixth",
   "metadata": {},
   "outputs": [
    {
     "data": {
      "text/plain": [
       "array([[  6,  79,   0,   0,   0,   0,   0,   0,   0,   0,   0,   0,   0,\n",
       "          0,   0,   0,   0,   0,   0,   0,   0,   0,   0,   0,   0],\n",
       "       [  6,  20,  79,   0,   0,   0,   0,   0,   0,   0,   0,   0,   0,\n",
       "          0,   0,   0,   0,   0,   0,   0,   0,   0,   0,   0,   0],\n",
       "       [ 80,  75, 108,   0,   0,   0,   0,   0,   0,   0,   0,   0,   0,\n",
       "          0,   0,   0,   0,   0,   0,   0,   0,   0,   0,   0,   0],\n",
       "       [104, 109,  35,   0,   0,   0,   0,   0,   0,   0,   0,   0,   0,\n",
       "          0,   0,   0,   0,   0,   0,   0,   0,   0,   0,   0,   0],\n",
       "       [ 27, 100,  92,   0,   0,   0,   0,   0,   0,   0,   0,   0,   0,\n",
       "          0,   0,   0,   0,   0,   0,   0,   0,   0,   0,   0,   0],\n",
       "       [ 81,  78,  26,   0,   0,   0,   0,   0,   0,   0,   0,   0,   0,\n",
       "          0,   0,   0,   0,   0,   0,   0,   0,   0,   0,   0,   0],\n",
       "       [ 49,  29,  51,   0,   0,   0,   0,   0,   0,   0,   0,   0,   0,\n",
       "          0,   0,   0,   0,   0,   0,   0,   0,   0,   0,   0,   0],\n",
       "       [ 49,  87,  74,  66,   0,   0,   0,   0,   0,   0,   0,   0,   0,\n",
       "          0,   0,   0,   0,   0,   0,   0,   0,   0,   0,   0,   0],\n",
       "       [ 65,  32,  40,  38,   0,   0,   0,   0,   0,   0,   0,   0,   0,\n",
       "          0,   0,   0,   0,   0,   0,   0,   0,   0,   0,   0,   0],\n",
       "       [ 65,  72,   7,  28,   0,   0,   0,   0,   0,   0,   0,   0,   0,\n",
       "          0,   0,   0,   0,   0,   0,   0,   0,   0,   0,   0,   0],\n",
       "       [101,  14,  12,  24,   0,   0,   0,   0,   0,   0,   0,   0,   0,\n",
       "          0,   0,   0,   0,   0,   0,   0,   0,   0,   0,   0,   0],\n",
       "       [101,  30,  56,  53,   0,   0,   0,   0,   0,   0,   0,   0,   0,\n",
       "          0,   0,   0,   0,   0,   0,   0,   0,   0,   0,   0,   0],\n",
       "       [101,  88,   4,  21,   0,   0,   0,   0,   0,   0,   0,   0,   0,\n",
       "          0,   0,   0,   0,   0,   0,   0,   0,   0,   0,   0,   0],\n",
       "       [101,  25,  37,  77,  64,   0,   0,   0,   0,   0,   0,   0,   0,\n",
       "          0,   0,   0,   0,   0,   0,   0,   0,   0,   0,   0,   0],\n",
       "       [101, 102,  69,  11,  16,   0,   0,   0,   0,   0,   0,   0,   0,\n",
       "          0,   0,   0,   0,   0,   0,   0,   0,   0,   0,   0,   0],\n",
       "       [101, 102,  60,  54,   0,   0,   0,   0,   0,   0,   0,   0,   0,\n",
       "          0,   0,   0,   0,   0,   0,   0,   0,   0,   0,   0,   0],\n",
       "       [ 70,  22, 110,  10,   0,   0,   0,   0,   0,   0,   0,   0,   0,\n",
       "          0,   0,   0,   0,   0,   0,   0,   0,   0,   0,   0,   0],\n",
       "       [ 70,  32,  61,   0,   0,   0,   0,   0,   0,   0,   0,   0,   0,\n",
       "          0,   0,   0,   0,   0,   0,   0,   0,   0,   0,   0,   0],\n",
       "       [ 70,  32,  13,  39,   0,   0,   0,   0,   0,   0,   0,   0,   0,\n",
       "          0,   0,   0,   0,   0,   0,   0,   0,   0,   0,   0,   0],\n",
       "       [ 70,  32,  23,   0,   0,   0,   0,   0,   0,   0,   0,   0,   0,\n",
       "          0,   0,   0,   0,   0,   0,   0,   0,   0,   0,   0,   0]])"
      ]
     },
     "execution_count": 6,
     "metadata": {},
     "output_type": "execute_result"
    }
   ],
   "source": [
    "index_inputs"
   ]
  },
  {
   "cell_type": "markdown",
   "id": "consolidated-peter",
   "metadata": {},
   "source": [
    "# 2. 시각화 함수"
   ]
  },
  {
   "cell_type": "code",
   "execution_count": 7,
   "id": "greenhouse-madagascar",
   "metadata": {},
   "outputs": [],
   "source": [
    "def plot_graphs(history, string):\n",
    "    plt.plot(history.history[string])\n",
    "    plt.plot(history.history['val_'+string], '')\n",
    "    plt.xlabel(\"Epochs\")\n",
    "    plt.ylabel(string)\n",
    "    plt.legend([string, 'val_'+string])\n",
    "    plt.show()"
   ]
  },
  {
   "cell_type": "markdown",
   "id": "least-worst",
   "metadata": {},
   "source": [
    "# 3. 모델 만들기에 필요한 값 선언"
   ]
  },
  {
   "cell_type": "code",
   "execution_count": 8,
   "id": "enormous-advocacy",
   "metadata": {},
   "outputs": [],
   "source": [
    "MODEL_NAME = 'seq2seq_kor'\n",
    "BATCH_SIZE = 2\n",
    "MAX_SEQUENCE = 25\n",
    "EPOCH = 30 # 전체 학습 데이터를 전체 순회하는 것이 한 번임\n",
    "UNITS = 1024\n",
    "EMBEDDING_DIM = 256\n",
    "VALIDATION_SPLIT = 0.1 \n",
    "\n",
    "char2idx = prepro_configs['char2idx']\n",
    "idx2char = prepro_configs['idx2char']\n",
    "std_index = prepro_configs['std_symbol']\n",
    "end_index = prepro_configs['end_symbol']\n",
    "vocab_size = prepro_configs['vocab_size']"
   ]
  },
  {
   "cell_type": "markdown",
   "id": "simple-preserve",
   "metadata": {},
   "source": [
    "# 4. 모델"
   ]
  },
  {
   "cell_type": "markdown",
   "id": "dense-crystal",
   "metadata": {},
   "source": [
    "해당 모델의 중간에 사용되는 신경망 : 재귀 신경망(이 예제에서는 조경현 교수님이 2014년에 발표한 GRU 모델 사용)"
   ]
  },
  {
   "cell_type": "markdown",
   "id": "worst-herald",
   "metadata": {},
   "source": [
    "## 인코더"
   ]
  },
  {
   "cell_type": "code",
   "execution_count": 9,
   "id": "reverse-tissue",
   "metadata": {},
   "outputs": [],
   "source": [
    "class Encoder(tf.keras.layers.Layer):\n",
    "    def __init__(self, vocab_size, embedding_dim, enc_units, batch_sz):\n",
    "        super(Encoder, self).__init__()\n",
    "        self.batch_sz = batch_sz\n",
    "        self.enc_units = enc_units\n",
    "        self.vocab_size = vocab_size \n",
    "        self.embedding_dim = embedding_dim          \n",
    "        \n",
    "        self.embedding = tf.keras.layers.Embedding(self.vocab_size, self.embedding_dim)\n",
    "        self.gru = tf.keras.layers.GRU(self.enc_units,\n",
    "                                       return_sequences=True,\n",
    "                                       return_state=True,\n",
    "                                       recurrent_initializer='glorot_uniform')\n",
    "\n",
    "    def call(self, x, hidden):\n",
    "        x = self.embedding(x)\n",
    "        output, state = self.gru(x, initial_state = hidden)\n",
    "        return output, state\n",
    "\n",
    "    def initialize_hidden_state(self, inp):\n",
    "        return tf.zeros((tf.shape(inp)[0], self.enc_units))"
   ]
  },
  {
   "cell_type": "markdown",
   "id": "fifth-japan",
   "metadata": {},
   "source": [
    "## 어텐션"
   ]
  },
  {
   "cell_type": "code",
   "execution_count": 10,
   "id": "changed-programmer",
   "metadata": {},
   "outputs": [],
   "source": [
    "class BahdanauAttention(tf.keras.layers.Layer):\n",
    "    def __init__(self, units):\n",
    "        super(BahdanauAttention, self).__init__()\n",
    "        self.W1 = tf.keras.layers.Dense(units)\n",
    "        self.W2 = tf.keras.layers.Dense(units)\n",
    "        self.V = tf.keras.layers.Dense(1)\n",
    "\n",
    "    def call(self, query, values):\n",
    "        hidden_with_time_axis = tf.expand_dims(query, 1)\n",
    "\n",
    "        score = self.V(tf.nn.tanh(\n",
    "            self.W1(values) + self.W2(hidden_with_time_axis)))\n",
    "\n",
    "        attention_weights = tf.nn.softmax(score, axis=1)\n",
    "\n",
    "        context_vector = attention_weights * values\n",
    "        context_vector = tf.reduce_sum(context_vector, axis=1)\n",
    "\n",
    "        return context_vector, attention_weights"
   ]
  },
  {
   "cell_type": "markdown",
   "id": "sharing-convention",
   "metadata": {},
   "source": [
    "## 디코더"
   ]
  },
  {
   "cell_type": "code",
   "execution_count": 11,
   "id": "helpful-stream",
   "metadata": {},
   "outputs": [],
   "source": [
    "class Decoder(tf.keras.layers.Layer):\n",
    "    def __init__(self, vocab_size, embedding_dim, dec_units, batch_sz):\n",
    "        super(Decoder, self).__init__()\n",
    "        \n",
    "        self.batch_sz = batch_sz\n",
    "        self.dec_units = dec_units\n",
    "        self.vocab_size = vocab_size \n",
    "        self.embedding_dim = embedding_dim  \n",
    "        \n",
    "        self.embedding = tf.keras.layers.Embedding(self.vocab_size, self.embedding_dim)\n",
    "        self.gru = tf.keras.layers.GRU(self.dec_units,\n",
    "                                       return_sequences=True,\n",
    "                                       return_state=True,\n",
    "                                       recurrent_initializer='glorot_uniform')\n",
    "        self.fc = tf.keras.layers.Dense(self.vocab_size)\n",
    "\n",
    "        self.attention = BahdanauAttention(self.dec_units)\n",
    "        \n",
    "    def call(self, x, hidden, enc_output):\n",
    "        context_vector, attention_weights = self.attention(hidden, enc_output)\n",
    "\n",
    "        x = self.embedding(x)\n",
    "\n",
    "        x = tf.concat([tf.expand_dims(context_vector, 1), x], axis=-1)\n",
    "\n",
    "        output, state = self.gru(x)\n",
    "        output = tf.reshape(output, (-1, output.shape[2]))\n",
    "            \n",
    "        x = self.fc(output)\n",
    "        \n",
    "        return x, state, attention_weights"
   ]
  },
  {
   "cell_type": "markdown",
   "id": "bibliographic-serial",
   "metadata": {},
   "source": [
    "## 손실 함수와 정확도 측정 함수"
   ]
  },
  {
   "cell_type": "code",
   "execution_count": 12,
   "id": "industrial-frederick",
   "metadata": {},
   "outputs": [],
   "source": [
    "optimizer = tf.keras.optimizers.Adam()\n",
    "\n",
    "loss_object = tf.keras.losses.SparseCategoricalCrossentropy(from_logits=True, reduction='none')\n",
    "\n",
    "train_accuracy = tf.keras.metrics.SparseCategoricalAccuracy(name='accuracy')\n",
    "\n",
    "def loss(real, pred):\n",
    "    mask = tf.math.logical_not(tf.math.equal(real, 0))\n",
    "    loss_ = loss_object(real, pred)\n",
    "    mask = tf.cast(mask, dtype=loss_.dtype)\n",
    "    loss_ *= mask\n",
    "    return tf.reduce_mean(loss_)\n",
    "\n",
    "def accuracy(real, pred):\n",
    "    mask = tf.math.logical_not(tf.math.equal(real, 0))\n",
    "    mask = tf.expand_dims(tf.cast(mask, dtype=pred.dtype), axis=-1)\n",
    "    pred *= mask    \n",
    "    acc = train_accuracy(real, pred)\n",
    "\n",
    "    return tf.reduce_mean(acc)"
   ]
  },
  {
   "cell_type": "markdown",
   "id": "plastic-space",
   "metadata": {},
   "source": [
    "## 시퀀스 투 시퀀스 모델"
   ]
  },
  {
   "cell_type": "code",
   "execution_count": 13,
   "id": "particular-version",
   "metadata": {},
   "outputs": [],
   "source": [
    "class seq2seq(tf.keras.Model):\n",
    "    def __init__(self, vocab_size, embedding_dim, enc_units, dec_units, batch_sz, end_token_idx=2):    \n",
    "        super(seq2seq, self).__init__()\n",
    "        self.end_token_idx = end_token_idx\n",
    "        self.encoder = Encoder(vocab_size, embedding_dim, enc_units, batch_sz) \n",
    "        self.decoder = Decoder(vocab_size, embedding_dim, dec_units, batch_sz) \n",
    "\n",
    "    def call(self, x):\n",
    "        inp, tar = x\n",
    "        \n",
    "        enc_hidden = self.encoder.initialize_hidden_state(inp)\n",
    "        enc_output, enc_hidden = self.encoder(inp, enc_hidden)\n",
    "\n",
    "        dec_hidden = enc_hidden\n",
    "\n",
    "        predict_tokens = list()\n",
    "        for t in range(0, tar.shape[1]):\n",
    "            dec_input = tf.dtypes.cast(tf.expand_dims(tar[:, t], 1), tf.float32) \n",
    "            predictions, dec_hidden, _ = self.decoder(dec_input, dec_hidden, enc_output)\n",
    "            predict_tokens.append(tf.dtypes.cast(predictions, tf.float32))   \n",
    "        return tf.stack(predict_tokens, axis=1)\n",
    "    \n",
    "    def inference(self, x):\n",
    "        inp  = x\n",
    "\n",
    "        enc_hidden = self.encoder.initialize_hidden_state(inp)\n",
    "        enc_output, enc_hidden = self.encoder(inp, enc_hidden)\n",
    "\n",
    "        dec_hidden = enc_hidden\n",
    "        \n",
    "        dec_input = tf.expand_dims([char2idx[std_index]], 1)\n",
    "        \n",
    "        predict_tokens = list()\n",
    "        for t in range(0, MAX_SEQUENCE):\n",
    "            predictions, dec_hidden, _ = self.decoder(dec_input, dec_hidden, enc_output)\n",
    "            predict_token = tf.argmax(predictions[0])\n",
    "            \n",
    "            if predict_token == self.end_token_idx:\n",
    "                break\n",
    "            \n",
    "            predict_tokens.append(predict_token)\n",
    "            dec_input = tf.dtypes.cast(tf.expand_dims([predict_token], 0), tf.float32)   \n",
    "            \n",
    "        return tf.stack(predict_tokens, axis=0).numpy()"
   ]
  },
  {
   "cell_type": "code",
   "execution_count": 14,
   "id": "smaller-romania",
   "metadata": {},
   "outputs": [],
   "source": [
    "model = seq2seq(vocab_size, EMBEDDING_DIM, UNITS, UNITS, BATCH_SIZE, char2idx[end_index])\n",
    "model.compile(loss=loss, optimizer=tf.keras.optimizers.Adam(1e-3), metrics=[accuracy])"
   ]
  },
  {
   "cell_type": "code",
   "execution_count": 15,
   "id": "veterinary-harris",
   "metadata": {},
   "outputs": [
    {
     "name": "stdout",
     "output_type": "stream",
     "text": [
      "Epoch 1/30\n",
      "9/9 [==============================] - 42s 2s/step - loss: 0.9119 - accuracy: 0.8170 - val_loss: 0.7041 - val_accuracy: 0.8540\n",
      "\n",
      "Epoch 00001: val_accuracy improved from -inf to 0.85400, saving model to ./data_out/seq2seq_kor\\weights.h5\n",
      "Epoch 2/30\n",
      "9/9 [==============================] - 14s 2s/step - loss: 0.8372 - accuracy: 0.8527 - val_loss: 0.6222 - val_accuracy: 0.8560\n",
      "\n",
      "Epoch 00002: val_accuracy improved from 0.85400 to 0.85600, saving model to ./data_out/seq2seq_kor\\weights.h5\n",
      "Epoch 3/30\n",
      "9/9 [==============================] - 14s 2s/step - loss: 0.6738 - accuracy: 0.8569 - val_loss: 0.5700 - val_accuracy: 0.8567\n",
      "\n",
      "Epoch 00003: val_accuracy improved from 0.85600 to 0.85667, saving model to ./data_out/seq2seq_kor\\weights.h5\n",
      "Epoch 4/30\n",
      "9/9 [==============================] - 14s 2s/step - loss: 0.5985 - accuracy: 0.8574 - val_loss: 0.5635 - val_accuracy: 0.8570\n",
      "\n",
      "Epoch 00004: val_accuracy improved from 0.85667 to 0.85700, saving model to ./data_out/seq2seq_kor\\weights.h5\n",
      "Epoch 5/30\n",
      "9/9 [==============================] - 14s 2s/step - loss: 0.5617 - accuracy: 0.8570 - val_loss: 0.5152 - val_accuracy: 0.8572\n",
      "\n",
      "Epoch 00005: val_accuracy improved from 0.85700 to 0.85720, saving model to ./data_out/seq2seq_kor\\weights.h5\n",
      "Epoch 6/30\n",
      "9/9 [==============================] - 15s 2s/step - loss: 0.5788 - accuracy: 0.8564 - val_loss: 0.4588 - val_accuracy: 0.8577\n",
      "\n",
      "Epoch 00006: val_accuracy improved from 0.85720 to 0.85767, saving model to ./data_out/seq2seq_kor\\weights.h5\n",
      "Epoch 7/30\n",
      "9/9 [==============================] - 14s 2s/step - loss: 0.4831 - accuracy: 0.8582 - val_loss: 0.4227 - val_accuracy: 0.8594\n",
      "\n",
      "Epoch 00007: val_accuracy improved from 0.85767 to 0.85943, saving model to ./data_out/seq2seq_kor\\weights.h5\n",
      "Epoch 8/30\n",
      "9/9 [==============================] - 14s 2s/step - loss: 0.4235 - accuracy: 0.8606 - val_loss: 0.3801 - val_accuracy: 0.8625\n",
      "\n",
      "Epoch 00008: val_accuracy improved from 0.85943 to 0.86250, saving model to ./data_out/seq2seq_kor\\weights.h5\n",
      "Epoch 9/30\n",
      "9/9 [==============================] - 14s 2s/step - loss: 0.3808 - accuracy: 0.8642 - val_loss: 0.3367 - val_accuracy: 0.8671\n",
      "\n",
      "Epoch 00009: val_accuracy improved from 0.86250 to 0.86711, saving model to ./data_out/seq2seq_kor\\weights.h5\n",
      "Epoch 10/30\n",
      "9/9 [==============================] - 14s 2s/step - loss: 0.3370 - accuracy: 0.8693 - val_loss: 0.2723 - val_accuracy: 0.8748\n",
      "\n",
      "Epoch 00010: val_accuracy improved from 0.86711 to 0.87480, saving model to ./data_out/seq2seq_kor\\weights.h5\n",
      "Epoch 11/30\n",
      "9/9 [==============================] - 15s 2s/step - loss: 0.2699 - accuracy: 0.8773 - val_loss: 0.2359 - val_accuracy: 0.8820\n",
      "\n",
      "Epoch 00011: val_accuracy improved from 0.87480 to 0.88200, saving model to ./data_out/seq2seq_kor\\weights.h5\n",
      "Epoch 12/30\n",
      "9/9 [==============================] - 14s 2s/step - loss: 0.2252 - accuracy: 0.8842 - val_loss: 0.1972 - val_accuracy: 0.8885\n",
      "\n",
      "Epoch 00012: val_accuracy improved from 0.88200 to 0.88850, saving model to ./data_out/seq2seq_kor\\weights.h5\n",
      "Epoch 13/30\n",
      "9/9 [==============================] - 15s 2s/step - loss: 0.1965 - accuracy: 0.8903 - val_loss: 0.2115 - val_accuracy: 0.8937\n",
      "\n",
      "Epoch 00013: val_accuracy improved from 0.88850 to 0.89369, saving model to ./data_out/seq2seq_kor\\weights.h5\n",
      "Epoch 14/30\n",
      "9/9 [==============================] - 14s 2s/step - loss: 0.1601 - accuracy: 0.8953 - val_loss: 0.1188 - val_accuracy: 0.8983\n",
      "\n",
      "Epoch 00014: val_accuracy improved from 0.89369 to 0.89829, saving model to ./data_out/seq2seq_kor\\weights.h5\n",
      "Epoch 15/30\n",
      "9/9 [==============================] - 14s 2s/step - loss: 0.1498 - accuracy: 0.8996 - val_loss: 0.1442 - val_accuracy: 0.9020\n",
      "\n",
      "Epoch 00015: val_accuracy improved from 0.89829 to 0.90200, saving model to ./data_out/seq2seq_kor\\weights.h5\n",
      "Epoch 16/30\n",
      "9/9 [==============================] - 15s 2s/step - loss: 0.1361 - accuracy: 0.9033 - val_loss: 0.1140 - val_accuracy: 0.9056\n",
      "\n",
      "Epoch 00016: val_accuracy improved from 0.90200 to 0.90562, saving model to ./data_out/seq2seq_kor\\weights.h5\n",
      "Epoch 17/30\n",
      "9/9 [==============================] - 15s 2s/step - loss: 0.1218 - accuracy: 0.9067 - val_loss: 0.1287 - val_accuracy: 0.9086\n",
      "\n",
      "Epoch 00017: val_accuracy improved from 0.90562 to 0.90859, saving model to ./data_out/seq2seq_kor\\weights.h5\n",
      "Epoch 18/30\n",
      "9/9 [==============================] - 16s 2s/step - loss: 0.1324 - accuracy: 0.9095 - val_loss: 0.1266 - val_accuracy: 0.9113\n",
      "\n",
      "Epoch 00018: val_accuracy improved from 0.90859 to 0.91133, saving model to ./data_out/seq2seq_kor\\weights.h5\n",
      "Epoch 19/30\n",
      "9/9 [==============================] - 16s 2s/step - loss: 0.1249 - accuracy: 0.9122 - val_loss: 0.1306 - val_accuracy: 0.9137\n",
      "\n",
      "Epoch 00019: val_accuracy improved from 0.91133 to 0.91368, saving model to ./data_out/seq2seq_kor\\weights.h5\n",
      "Epoch 20/30\n",
      "9/9 [==============================] - 19s 2s/step - loss: 0.1158 - accuracy: 0.9145 - val_loss: 0.1117 - val_accuracy: 0.9159\n",
      "\n",
      "Epoch 00020: val_accuracy improved from 0.91368 to 0.91590, saving model to ./data_out/seq2seq_kor\\weights.h5\n",
      "Epoch 21/30\n",
      "9/9 [==============================] - 17s 2s/step - loss: 0.1268 - accuracy: 0.9165 - val_loss: 0.1212 - val_accuracy: 0.9179\n",
      "\n",
      "Epoch 00021: val_accuracy improved from 0.91590 to 0.91790, saving model to ./data_out/seq2seq_kor\\weights.h5\n",
      "Epoch 22/30\n",
      "9/9 [==============================] - 16s 2s/step - loss: 0.1239 - accuracy: 0.9186 - val_loss: 0.1155 - val_accuracy: 0.9198\n",
      "\n",
      "Epoch 00022: val_accuracy improved from 0.91790 to 0.91982, saving model to ./data_out/seq2seq_kor\\weights.h5\n",
      "Epoch 23/30\n",
      "9/9 [==============================] - 17s 2s/step - loss: 0.1205 - accuracy: 0.9202 - val_loss: 0.1241 - val_accuracy: 0.9214\n",
      "\n",
      "Epoch 00023: val_accuracy improved from 0.91982 to 0.92139, saving model to ./data_out/seq2seq_kor\\weights.h5\n",
      "Epoch 24/30\n",
      "9/9 [==============================] - 17s 2s/step - loss: 0.1107 - accuracy: 0.9220 - val_loss: 0.1208 - val_accuracy: 0.9230\n",
      "\n",
      "Epoch 00024: val_accuracy improved from 0.92139 to 0.92300, saving model to ./data_out/seq2seq_kor\\weights.h5\n",
      "Epoch 25/30\n",
      "9/9 [==============================] - 15s 2s/step - loss: 0.1040 - accuracy: 0.9234 - val_loss: 0.1174 - val_accuracy: 0.9244\n",
      "\n",
      "Epoch 00025: val_accuracy improved from 0.92300 to 0.92440, saving model to ./data_out/seq2seq_kor\\weights.h5\n",
      "Epoch 26/30\n",
      "9/9 [==============================] - 15s 2s/step - loss: 0.0998 - accuracy: 0.9249 - val_loss: 0.1210 - val_accuracy: 0.9259\n",
      "\n",
      "Epoch 00026: val_accuracy improved from 0.92440 to 0.92592, saving model to ./data_out/seq2seq_kor\\weights.h5\n",
      "Epoch 27/30\n",
      "9/9 [==============================] - 16s 2s/step - loss: 0.0760 - accuracy: 0.9264 - val_loss: 0.1295 - val_accuracy: 0.9275\n",
      "\n",
      "Epoch 00027: val_accuracy improved from 0.92592 to 0.92748, saving model to ./data_out/seq2seq_kor\\weights.h5\n",
      "Epoch 28/30\n",
      "9/9 [==============================] - 14s 2s/step - loss: 0.0745 - accuracy: 0.9280 - val_loss: 0.1561 - val_accuracy: 0.9293\n",
      "\n",
      "Epoch 00028: val_accuracy improved from 0.92748 to 0.92929, saving model to ./data_out/seq2seq_kor\\weights.h5\n",
      "Epoch 29/30\n",
      "9/9 [==============================] - 14s 2s/step - loss: 0.0544 - accuracy: 0.9299 - val_loss: 0.1784 - val_accuracy: 0.9310\n",
      "\n",
      "Epoch 00029: val_accuracy improved from 0.92929 to 0.93103, saving model to ./data_out/seq2seq_kor\\weights.h5\n",
      "Epoch 30/30\n",
      "9/9 [==============================] - 14s 2s/step - loss: 0.0511 - accuracy: 0.9316 - val_loss: 0.1779 - val_accuracy: 0.9327\n",
      "\n",
      "Epoch 00030: val_accuracy improved from 0.93103 to 0.93267, saving model to ./data_out/seq2seq_kor\\weights.h5\n"
     ]
    }
   ],
   "source": [
    "PATH = DATA_OUT_PATH + MODEL_NAME\n",
    "if not(os.path.isdir(PATH)):\n",
    "        os.makedirs(os.path.join(PATH))\n",
    "        \n",
    "checkpoint_path = DATA_OUT_PATH + MODEL_NAME + '/weights.h5'\n",
    "    \n",
    "cp_callback = ModelCheckpoint(\n",
    "    checkpoint_path, monitor='val_accuracy', verbose=1, save_best_only=True, save_weights_only=True)\n",
    "\n",
    "earlystop_callback = EarlyStopping(monitor='val_accuracy', min_delta=0.0001, patience=10)\n",
    "\n",
    "history = model.fit([index_inputs, index_outputs], index_targets,\n",
    "                    batch_size=BATCH_SIZE, epochs=EPOCH,\n",
    "                    validation_split=VALIDATION_SPLIT, callbacks=[earlystop_callback, cp_callback])"
   ]
  },
  {
   "cell_type": "code",
   "execution_count": 16,
   "id": "extra-hearing",
   "metadata": {},
   "outputs": [
    {
     "data": {
      "image/png": "[encoded data removed]",
      "text/plain": [
       "<Figure size 432x288 with 1 Axes>"
      ]
     },
     "metadata": {
      "needs_background": "light"
     },
     "output_type": "display_data"
    }
   ],
   "source": [
    "plot_graphs(history, 'accuracy')"
   ]
  },
  {
   "cell_type": "code",
   "execution_count": 17,
   "id": "injured-respect",
   "metadata": {},
   "outputs": [
    {
     "data": {
      "image/png": "[encoded data removed]",
      "text/plain": [
       "<Figure size 432x288 with 1 Axes>"
      ]
     },
     "metadata": {
      "needs_background": "light"
     },
     "output_type": "display_data"
    }
   ],
   "source": [
    "plot_graphs(history, 'loss')"
   ]
  },
  {
   "cell_type": "code",
   "execution_count": 18,
   "id": "confirmed-exchange",
   "metadata": {},
   "outputs": [],
   "source": [
    "SAVE_FILE_NM = \"weights.h5\"\n",
    "model.load_weights(os.path.join(DATA_OUT_PATH, MODEL_NAME, SAVE_FILE_NM))"
   ]
  },
  {
   "cell_type": "markdown",
   "id": "macro-brain",
   "metadata": {},
   "source": [
    "책의 예제에서는 \"남자친구 승진 선물로 뭐가 좋을까?\"라는 질문에 \"평소에 필요했던 게 좋을 것 같아요\"라고 답변했다."
   ]
  },
  {
   "cell_type": "code",
   "execution_count": 19,
   "id": "forced-surfing",
   "metadata": {},
   "outputs": [
    {
     "name": "stdout",
     "output_type": "stream",
     "text": [
      "[ 31 107  90  83]\n",
      "평소에 필요한 것 같아요\n"
     ]
    }
   ],
   "source": [
    "query = \"남자친구 승진 선물로 뭐가 좋을까?\"\n",
    "\n",
    "test_index_inputs, _ = enc_processing([query], char2idx)    \n",
    "predict_tokens = model.inference(test_index_inputs)\n",
    "print(predict_tokens)\n",
    "\n",
    "print(' '.join([idx2char[str(t)] for t in predict_tokens]))"
   ]
  },
  {
   "cell_type": "code",
   "execution_count": 20,
   "id": "younger-track",
   "metadata": {},
   "outputs": [
    {
     "name": "stdout",
     "output_type": "stream",
     "text": [
      "[84 93 98]\n",
      "전생에 나라를 구하셨나요\n"
     ]
    }
   ],
   "source": [
    "query = \"오늘 점심은 무엇을 먹을까?\"\n",
    "\n",
    "test_index_inputs, _ = enc_processing([query], char2idx)    \n",
    "predict_tokens = model.inference(test_index_inputs)\n",
    "print(predict_tokens)\n",
    "\n",
    "print(' '.join([idx2char[str(t)] for t in predict_tokens]))"
   ]
  },
  {
   "cell_type": "code",
   "execution_count": 21,
   "id": "affiliated-hampton",
   "metadata": {},
   "outputs": [
    {
     "name": "stdout",
     "output_type": "stream",
     "text": [
      "[84 93 98]\n",
      "전생에 나라를 구하셨나요\n"
     ]
    }
   ],
   "source": [
    "query = \"오늘 데이트는 어디에서 할까?\"\n",
    "\n",
    "test_index_inputs, _ = enc_processing([query], char2idx)    \n",
    "predict_tokens = model.inference(test_index_inputs)\n",
    "print(predict_tokens)\n",
    "\n",
    "print(' '.join([idx2char[str(t)] for t in predict_tokens]))"
   ]
  },
  {
   "cell_type": "code",
   "execution_count": 22,
   "id": "innovative-array",
   "metadata": {},
   "outputs": [
    {
     "name": "stdout",
     "output_type": "stream",
     "text": [
      "[106  57  99  63]\n",
      "다음 달에는 더 절약해봐요\n"
     ]
    }
   ],
   "source": [
    "query = \"남자친구랑 100일이야\"\n",
    "\n",
    "test_index_inputs, _ = enc_processing([query], char2idx)    \n",
    "predict_tokens = model.inference(test_index_inputs)\n",
    "print(predict_tokens)\n",
    "\n",
    "print(' '.join([idx2char[str(t)] for t in predict_tokens]))"
   ]
  },
  {
   "cell_type": "code",
   "execution_count": 23,
   "id": "patent-baghdad",
   "metadata": {},
   "outputs": [
    {
     "name": "stdout",
     "output_type": "stream",
     "text": [
      "[106  57  99  63]\n",
      "다음 달에는 더 절약해봐요\n"
     ]
    }
   ],
   "source": [
    "query = \"사랑해\"\n",
    "\n",
    "test_index_inputs, _ = enc_processing([query], char2idx)    \n",
    "predict_tokens = model.inference(test_index_inputs)\n",
    "print(predict_tokens)\n",
    "\n",
    "print(' '.join([idx2char[str(t)] for t in predict_tokens]))"
   ]
  },
  {
   "cell_type": "markdown",
   "id": "labeled-attribute",
   "metadata": {},
   "source": [
    "------"
   ]
  },
  {
   "cell_type": "markdown",
   "id": "wireless-orange",
   "metadata": {},
   "source": [
    "## 결론 및 후기"
   ]
  },
  {
   "cell_type": "markdown",
   "id": "defensive-judgment",
   "metadata": {},
   "source": [
    "- 책예제를 그대로 따라해보며 seq2seq + Attention 모델을 만들어보았다.\n",
    "- 데이터가 부족해서 그런가 답변이 하나도 맞지 않는다. (예제는 꽤 괞찮아 보였는데)\n",
    "- 모델의 파라미터 조정이 필요해보인다.\n",
    "- 다른 모델을 통해 챗봇을 만들어서 본 예제와의 성능을 비교해봐야겠다."
   ]
  }
 ],
 "metadata": {
  "kernelspec": {
   "display_name": "Python 3",
   "language": "python",
   "name": "python3"
  },
  "language_info": {
   "codemirror_mode": {
    "name": "ipython",
    "version": 3
   },
   "file_extension": ".py",
   "mimetype": "text/x-python",
   "name": "python",
   "nbconvert_exporter": "python",
   "pygments_lexer": "ipython3",
   "version": "3.7.4"
  }
 },
 "nbformat": 4,
 "nbformat_minor": 5
}
